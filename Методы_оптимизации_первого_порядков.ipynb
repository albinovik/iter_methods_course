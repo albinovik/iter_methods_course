{
  "cells": [
    {
      "cell_type": "markdown",
      "metadata": {
        "id": "view-in-github",
        "colab_type": "text"
      },
      "source": [
        "<a href=\"https://colab.research.google.com/github/albinovik/iter_methods_course/blob/main/%D0%9C%D0%B5%D1%82%D0%BE%D0%B4%D1%8B_%D0%BE%D0%BF%D1%82%D0%B8%D0%BC%D0%B8%D0%B7%D0%B0%D1%86%D0%B8%D0%B8_%D0%BF%D0%B5%D1%80%D0%B2%D0%BE%D0%B3%D0%BE_%D0%BF%D0%BE%D1%80%D1%8F%D0%B4%D0%BA%D0%BE%D0%B2.ipynb\" target=\"_parent\"><img src=\"https://colab.research.google.com/assets/colab-badge.svg\" alt=\"Open In Colab\"/></a>"
      ]
    },
    {
      "cell_type": "markdown",
      "metadata": {
        "id": "eutxz36R4vJt"
      },
      "source": [
        "**ИТЕРАЦИОННЫЕ МЕТОДЫ ОПТИМИЗАЦИИ ПЕРВОГО ПОРЯДКА. СЛУЧАЙ ОДНОМЕРНОЙ ОПТИМИЗАЦИИ.**"
      ]
    },
    {
      "cell_type": "markdown",
      "metadata": {
        "id": "Qa1tlgsk6V3W"
      },
      "source": [
        "Оптимизация понимается как выбор наилучшего варианта из имеющихся. Это может быть вариант с минимальным значением некоторого параметра, либо с максимальным. Понятно, что в математических терминах мы здесь мыслим экстремумами некоторой функции. Таким образом, задачи оптимизации заключаются в нахождении экстремума функции в заданной области."
      ]
    },
    {
      "cell_type": "markdown",
      "metadata": {
        "id": "N3A4sNU280nw"
      },
      "source": [
        "**Методы оптимизации** предназначены для поиска единственного точечного локального экстремума. Они классифицируются, как и все методы оптимизации, по порядку используемых в них производных целевой функции."
      ]
    },
    {
      "cell_type": "markdown",
      "metadata": {
        "id": "bqlFlzgH865A"
      },
      "source": [
        "К *методам нулевого порядка* относятся методы случайного поиска, сканирования, оптимального поиска и другие. "
      ]
    },
    {
      "cell_type": "markdown",
      "metadata": {
        "id": "zAlziugX89pl"
      },
      "source": [
        "К *методам первого порядка* относятся: метод деления отрезка пополам (метод Больцано), метод касательных и другие."
      ]
    },
    {
      "cell_type": "markdown",
      "metadata": {
        "id": "QIHDTwWZ9C6k"
      },
      "source": [
        "К *методам второго порядка* принадлежат: методы Ньютона и методы квадратичной аппроксимации и интерполяции."
      ]
    },
    {
      "cell_type": "markdown",
      "metadata": {
        "id": "LYqKE5a7AD5m"
      },
      "source": [
        "**МЕТОДЫ ПЕРВОГО ПОРЯДКА.** Методы первого порядка применяются, как правило, для оптимизации выпуклых дифференцируемых функций."
      ]
    },
    {
      "cell_type": "markdown",
      "metadata": {
        "id": "rSXxy0x3Cw0W"
      },
      "source": [
        "**Метод деления отрезка пополам (метод Больцано).** Пусть φ(x), заданная на промежутке [a, b], является выпуклой дифференцируемой. В рассматриваемом методе очередной промежуток [ak-1, bk-1] делится пополам средней точкой хk= ½( ak-1 + bk-1), вычисляется производная φ'(xk) и по еѐ знаку выбирается новый промежуток [ak, bk]. Ниже идея метода проиллюстрирована на рисунке и представлена схемой алгоритма."
      ]
    },
    {
      "cell_type": "markdown",
      "metadata": {
        "id": "BH7RqgkJHJ1l"
      },
      "source": [
        "![больцано.png](data:image/png;base64,iVBORw0KGgoAAAANSUhEUgAAAokAAAGPCAYAAAAwZkqhAAAAAXNSR0IArs4c6QAAAARnQU1BAACxjwv8YQUAAAAJcEhZcwAADsIAAA7CARUoSoAAACy/SURBVHhe7d09jBTZegbgXju5yLLElRNI7CGx2QwycOAL2RIZooEICKw7ZGwEROyNgAg2YjeCjZiN2AwcLY7gJoYM5ASyJbEWyZK5kgM8X00d9kx19e9Ud1dVP4/Uorvnl56u6re/c853vvi0YwAAAJm/Kv8FAIDPhEQAAIYIiQAADBESAQAYIiQCADBESAQAYIiQCADAECERAIAhQiIAAEOERAAAhgiJAAAMERIBABgiJAIAMERIBABgiJAIALAAT58+HZw+fXrw8OHD8p5u+eLTjvI6AAANiIB44cKFwYcPHwa/+93vBh8/fiw/0h1CIgBAg/KAmHQxbhluBgBo0OXLl/cExK2trfJatwiJAAANiLmHR44cGbx//768Zzcg3r9/v7zVLYabAQD2IcLhn/70p8G7d+/Ke3adP39+8OjRo/JW9wiJAABziLmHV65cGQqHIQLigwcPikUrXSUkAgDMYFI43N7e7uRClSpzEgEAphRDy7FyuW5oOdrcdHl4uUpIBACYwjfffDO0cjnE4pQIh10eWq5juBkAYIxRw8ujVi5/8cUXvRhuFhIBAGqMWrX81VdfDR4/fjyyctiXkGi4GQCgIg0t1809HBcQ+0RIBAAopYbYUUGs6uvcw1EMNwMAay0Woty7d2/www8/zDy0XMecRACADhvX7zDM2xDbnEQAgI4a1e8w5D0P12VouY6QCACslbp+hxsbG0XVMCqA6x4OE8PNAMBaiFAYC1Ji/mFuVL/DeZmTCADQAfP2O5yXOYkAAC2W2tnU9TtcVEDsEyERAOidUc2w09zDJ0+eCIgTGG4GAHolAmK1Gfa87WzmYU4iAECL1M09XMWwsjmJAAAtMGruoXmH+yMkAgCdNWruYQwvC4j7IyQCAJ2Tqod1cw/tltIMcxIBgE6pW5jSpqFlcxIBAJZs1MplQ8vNU0kEADqhGhDbujBFJREAYAnq5h9aubx4KokAQCs9ffp0cOXKlc5tqaeSCACwIFE9vHDhgtY2KyQkAgCtknoffvjwobxHa5tVMNwMALTGd999Vwwx57a2tgb3798vb7WfvZsBABoUQ8xff/315wpiVxenCIkAAA2IcBgrl6vzD2N4uYtDyxauAADs06i9l2OI2dzD1VJJBABWYtTuKQ8ePOh0QDTcDAAwp67snjIPw80rEo01T58+XcxfAAC6JRalxOIUu6e0X+cqiYcPHx68f/++SOn/8A//MLh58+bg0qVL5UcBgLaK9jY3btzY0/+wjwHRcPOKHDhwYPCXv/ylvDUonlSx+gkAaKcIhVE5vHfvXnnPrr5WEA03r8jZs2fLa7vywAgAtEtUD48cObInIG5sbBSLU548eWKIucU6V0l89erV4Pjx4+WtXX1I6wDQJ/F6/e233w6tIViH+YeGm1coHvyckAgA7RCVwzt37gz1PYzq4bqsIxASV0hIBID2qdt3Oazb6mUhcYWERABol+g8EnMP01qBQ4cOFesINjc3B6dOnSruWxdC4grFgx/vRtIT8eXLl4Njx44V1wGA5YrVy1FB3N7eLm7Ha/Lz58/XdlFKX0JiZ/duzlc5V7f0AQAWL8Jh7JwSFcQUEEPMPbRqufs6W0mM6mG+ylk1EQCWp64xdoj5h9HaZp2pJK5YBELVRABYvrRAJQ+Iee9D+qGzlcT4tas9E/uQ2gGgzaoLVNaptc20+lJJ7HRITNcTIREAFuOnn34afP3113v6H677ApVRhMQVEhIBYHmq1cMkeh9Wt8ulPyGxs3MSAYDFi3mHUUGsBsRYoCIg9lvnQ2Je4r59+3Z5DQDYr1igUm1vE9XDqJJZoNJ/nQ+JW1tb5bVBsRQ/SuIAwP5E/8PqCmbVw/XS+ZB469atwYkTJ8pbuxNrAYD5RUDMW8tpb7OeejHc/Mc//rG8NRj8+OOP5TUAYFbVgBjVw9evX2txs4Y6v7o5RCn897//fXnLKmcAmEdqkp1EQIw5iFrczEYLnBWqe/C1wgGA+VXb3AiI89MCp2XyJ7HFKwAwmxhiTgExmmQLiPQmJJ46daq8ZvEKAMwiuoPEUHMS2+wJiPQmJG5ubpbXLF4BgGm8efNmcPLkyT19hrW5IenNnMRYvHL48OHPpfJffvllcOjQoeI6ALDXvXv3igpivpOKeYjNMCexZQ4ePGjIGQCmEAEx32ovQmH0HY4+iAIiSW9CYjDkDADjvXr1qqggJrEhxcuXLwfXr18v74FdvRluDvolAsBoUTmMOYgRFEMExJ9//ln1sGGGm1sohpzzJ7pWOADwm1igkgJivF7GVnsCIqP0KiQG8xIBoN73339fXtttc3P06NHyFgzrXUg0LxEAhsWezPkImzmITNK7kBi9nVLp/NmzZ8VBAQDrKEbUYqu9mCMXO6ok58+fL6/BaL1auJLE5uR55/hYtRVbDAHAuqjuxZzohbh4Fq602N27d/fMTczfPQHAOsj3Yk6igiggMq1eVhJDrN46fvx4eWtQLPHPgyMA9FVMtcoLJBEMbbW3PCqJLRfDy5cuXSpvDQaXL18eekcFAH1TDYj2YmZevQ2JIbYYSvs3v3v3rtiCCAD6KubjVwNiVBFhHr0dbk62t7cHFy5cKG8NBr/88svn4AgAfVFdqGKByuoYbu6ImKQbB0qiwTYAfRPz8PNpVTHlSkBkv3ofEoMG2wD0UfQDjuphLNR8+vRpee/ubioCIvvV++Hm8OHDh8Hhw4c/v8Oy0hmArhvVBzEWqZiHuFqGmzvk4MGDe4acrXQGoOvyPogx135ra6soggiINGUtKokh3nF9+eWXRVUxxMF0//794joAdIk+iO2mktgx8S4rdmJJok2AfZ0B6Bp9EFmWtakkJufOnduzwtn8RAC6oi4gWsXcPn2pJK5dSIz5G2fOnClWhIWNjY3B69evHWAAtJqA2B2GmzsqDqZHjx4Vi1mCnVgAaDsBkVVYu0pi8vDhw2KVc2InFgDaSEDsHpXEjrt06dKeuYh2YgGgbe7duycgsjJrGxLDxYsXy2t2YgGgXWKrvRs3bpS3BESWb22Hm0N1J5aXL18W+10CwCrF69LJkyeLoBhOnDhRdOMQELvBcHMPVHdiyUv6ALAq8XqUAmIEwwcPHgiILN1ah8QQm6AnMS8xtcYBgFWIhSq3b98ub+2+Th09erS8Bcuz1sPNSaxyjtXOQd9EAFalbiXzkydPylt0heHmHrl169bn9jf6JgKwCqNa3cCqqCSWtre3BxcuXChv6ZsIwPLohdgvKok9c/78+T2LWPRNBGAZ9EKkrYTEzObmZnlN30QAFk8vRNpMSMycPXv284EZq5yj/A8AixC9EGPhZOrVG70QBUTaREjMRN/E2K4vifK/oAjAIsRrjF6ItJmQWHH37t09cxMFRQCaFq8reiHSdlY314jS/7lz5wZPnz4t7xkU2yGdOnWqvAUA86lbyawXYr/0ZXWzkDhCBMUzZ8583oFFk20A9qsuIJqH2D9a4PRcHLCPHj0q5ikGTbYB2A8Bka5RSZwgtuuL1WeJJtsAzOq7774bXLlypbwlIPadSuKaiNXO+VxETbYBmMX79+/3jEQJiHSFkDiFixcvltc02QZgNjHEnHohHjt2TECkM4TEKVSbbKe+VgAwTsxDjKHmJFrdCIh0hZA4hVi8EsMDST7xGADq1C1UiaIDdIWFK1OK6uHx48fLW/omAjBa7MecN8s2D3G9WLiyZmIeSb5lX77fJgCEN2/eDE6ePCkg0gtC4gxu3br1uf2NvokA5O7du1eMOL148aK8R0Ck24TEGURAjL2dk5iMbBELADH/MAoHaYQpQmEUFmK7PQGRrjIncQ6xr3PqlxiTkONdIgDrqTr/8MSJE4MHDx4Mjh49Wt7DuunLnEQhcQ7VRSx2YQFYPzH/MOanG16mysKVNRaLWOJEkNiFBWC9mH/IOhAS57S5uVleswsLwDox/5B1Ybh5Th8+fBgcPnz480lC30SA/jP/kGkYbl5z1V1Y9E0E6K9R/Q+jQCAg0ldC4j7cv3+/CItB30SAftre3jb/kLUkJO5DXd/EmKsCQD+8f/9+z0iR+YesEyFxn2KrvnzD9tjMXVAE6Ic4p6eAGMPKL1++HFy/fr24DX1n4UoD4gQSDbafPn1a3mMhC0DXxRv+CIlJDC/nRQEYpS8LV4TEhkRQPHPmzODZs2fF7Y2NjcHr168NRwB0UEwfunLlSnlrdw5iDDHDNITEFWrrgx9zV7788suiPU7Y2toqFrcA0B1xLj9y5MjnYWaLVJhVX0KiOYkNqlvIEicbALojn4cYO2wJiKwrIbFhsZAln4toyz6A7oh5iPEGP7l586aAyNoSEhfg4sWL5TVb9gF0RXWhSgwzW6jCOjMncQGqW/b98ssvxVA0AO1UFxANMzMvcxIZKXZhMeQM0A0CItQTEhdkc3OzvGbIGaCtBEQYzXDzghhyBmg3AZFFMdzMWIacAdpLQITJhMQFMuQM0D43btwQEGEKhpsXqDrkHBvDR2NWAJbvzZs3g8uXLw9evHhR3iMgshiGm5kohpzjBJTk71wBWJ579+4Njh8/LiDCDFQSF+zVq1fFiSmxgAVguarzDyMUxk4q169fL++BZqkkMpUYXs6riRawACxPNSCeOHGimPojIMJkQuISWMACsHx1K5h//vnnwdGjR8t7gHEMNy+BBSwAyxPn3AiHMQ8xMf+QZTLczNQsYAFYvAiHUT08cuSIgAgNUElcEgtYABbnu+++K/ofRlDMCYisgkoiM7GABWAxonp45cqVPQFxY2Nj8ODBg8GTJ08WEhAjBEDfCYlLZAELQLOqi1NSOHz79u3g0qVL5b3NiXDYlyoRTGK4eYmqC1gMOQPMr2718qKGllPlUDhkGn15I6GSuESxgOXUqVPlLUPOAPNa1v7LeeVQQGTdCIlLZsgZYH6x//LJkycHt2/fLu9ZTEAUDmHnONh58nfu2d/lMm51yFnPRIDpbG9vDy5fvvz5/BkWFRAFQ/ajL88hlcQl0zMRYHbv37/fExAjFN66davR1ct59RBQSVwJPRMBpvf06dPB119/XQw1h9hWL6qHTW2vF68pQTikKSqJzE3PRIDpxJvqc+fOfQ6IISqITQTEvHIoIMIwIXFFLGABGC+GluvmIJ49e7a8NT/hECYTElckTnJpHs2zZ8+Kfl8A7IpFfjHEHJXEEOfL169fF3MQ9yOvHgLjCYkrEgtY8t0AYgFL3tIBYB1FOIw3zUeOHCn2Y05u3ry5ryFmQ8swOwtXViiGUGKuTUzKTixiAdZVhMJokp3vwRxiiHneCmK8XgTBkGXqS05RSVyhGD6JFXonTpwo77GIBVhPUT28cuXKnoCY9mGeJyCqHML+CYkrFkHxj3/8Y3nLIhZgvaS5h3nP2BQO3759u2dazrSEQ2iGkNgC1UUsaaI2MCymZ5w+fXrw8OHD8h66KuZhx9zDe/fulffsDi3HApV5w2FfhvmgDcxJbImYm5iGmiM0xjA0MCy2tYzdN+KN1cePH8t76ZLoeRitbV68eFHesysC4jxb7MVrQhAOaYu+5BQhsSWqu7D8/PPPg1OnTpW3gCQFgiAUdE9UD2NoOe99GKuWr127NnP1UDikrfqSUww3t0TswpKfIKsNZIHd/Xvppqgenjx5sli9nM5tUTGM3VNmHV6OF+D0IiwgwuIIiS0SJ8vU/ubdu3fFZG7gN/nihnhjRTdE9TBGSvLh5ejq8PLly8H169fLe6YjHMLyCIktEgHx7t275a3dnmEWscCuOB6qzZVpt3HVw+fPn8/UHDuvHgLLISS2zPnz5/fsS5pXTmCd5cdCU/v3LoLV17tixXIT1UNDy7A6Fq60kEUsMCyO+yRWNVdXwEY4u3PnzuDixYtztU9pyrqvvo6+hzGnuroxQATDqP5Ou3I5/b0FQ7qoLzlFSGypOMmmSkQ0lo2J3dOeXKGP8pBYd/y3JZxN+j37LKqGFy5cKOZUJzGkHI2x852lxhEO6YO+5BTDzS1lEQtML8JhWvmsK8BqxOKUGGbPA2JUdGN4eZaAGC+sAiK0g5DYUnWLWLT/gHoxzJxY9bxcdYtTDh48OHj06FFRQZxmBCTCYV8qL9AnQmKLxSKWmKCfVOf4wLoY9wYpPmbV82qMam0TK5fj/DVJHg4FRGgfIbHlNjc3y2uDwY8//lheg/UyrlKY794RH2vrquc+2W9rG+EQukFIbLl4wUvDNc+ePRt88803xXVYJ9vb2+W1vZXCJnonalkzm/02xhYOoTusbu6AK1euDL0QCousixhOjpXLSX7spxXNIaZmPHnypLieTNMWp+lV0XF+Svp0norqYXRdyMNhPGZxPpo2HIZ1OnezvvqSU4TEDojhnHPnzhUveEm8azdBn3UQK/ujMXOI53w890NU1qMCGEa1iZomADYd6voWEqNv6w8//FC8Uc1Xjkf1MBamTDO0HNbpnA19ySmGmzsgXuAeP368p6G2nVhYF6OGmvM5urFIohoQQ6oy5uEmpyI/WoTCI0eOFEPLEdJnnXsYL5LphVJAhG4SEjsiTsx5S5xY6WxfZ1Ztmvl88TkRNlJoqF7iY/l0iqoU9EK+KCVf7f+v//qv5bXpRfDJ32xNsxp3XUR4jmkuec/DMM3cw/R3FQ6hB3YO4s7p6K/diJ0XyeL/H5e4Dqt06NCh4rm48yamvGevJ0+efDp48ODn5+y4y61bt8qv2iv/nOTnn3/+fN/GxkZ577C6rw07Qaf4ndPHvvrqq08fP34sP7o/o35mV9y8eXPP/yH+xltbW8VjPklX/8/QtL4cC+Ykdkx1X2dzE1mlOBaTumMyX1gySVTL6+YNHjhw4PNQZ/oZ+WKuqGrF8Gedut8vvle0b0mV+KiOxf7o8fObMOkxabNoaROrl5NYDBRTXSY9Nun/vK7nZajqS04x3Nwx1T5w5ibSZnlA3NraKk6a+SVCYQogEd7q5gimeYjx9cl+hpojBKWAGD972l1B+iz1PZw1IMYLYXoxjAvQLyqJHVStJmqJw6qkClKoOyYnfTzkq5dDVAUntVSZ5vuG6ufFsRNhKFUmp/lZs5r2d2uDeDzqVi5PCojp/9j2/x+sShwjvTg+dv4TndPRX7tRly5dKh6HdIl5RLBM9+/f3/McrDPp4yHmAsacwPR5O8Gk/Ei96py5cfLPi59z7Nixz7dPnDhRflaz8p/ZRr/++mvxGMZczvx3jUs89qPmhob0ecB4fTlOVBI7Kt71V3snxryqvE0OLFI+3zBWBj969Ki4npu2qhbP55h7mIz63Kh4xXzEZNTPTfKfH8PVaR5jVMhiPu+kHn/zmPb/vGwfPnwoKrbffvttcb1qUt9D512YXl+OFyGxw+KF9cyZM0VT4TCqoTAsQh6G8rmFuVkC06TPjUAa7XLSsOi0c+bqLGKYOZnl/7wsEY5jUUo1HB46dKiY4xx7xI96g5n+P865ML04bvpwzFi40mHx4hhVlIMHDxa3o6dZzO+CZdvvG5NU4RsnFmmlgBgLuKZZdVsnwuWiAmIbpZ6HeUCMN5RRNfzll18G9+/frw2I8SKXXugERFhPQmLHRSUgb7IdL7YWsdA1k5pax/M6D5KxWGtSQKwGzxSMqvs791lUD/PHNj0Gb9++HbmXtXAIJIabeyLmJ+ZtQax4ZtHiOExGHY/TfE48T/MgUzd0nc9/jErgNEGv2qNx1JB406b5Py9ajCpcuHBh8OLFi/IeK5ZhmfqSU1QSeyKGneNFIIkXXSGRNovhz5geUa0iVkNMLM7Kw14EnUlinm7+NWEZAXHV4jGN4z5aZM0aEOMFTUAEckJiT8TJP14EBEW6IIaCYxFK3h8xnrsxFFp1+fLl8tquacLejz/+WF5bDykcxmMax32afxiPVSzSicpr3eMW4bAvFQ+geUJijwiKtF1UBSPIVBdSjKt05RXBfNeVUaJB9MOHD8tbv0m7rPRN7JJSDYchWtpEm5+6RTp5OBQQgVHMSewhPRRZhjgOk1HHY/45v/766+DLL7/cE/piIUXMnx21iCJM83OSeO7n+zL/3d/93eC///u/i+vR6mWaoer9muX33Y/YSi+qrPmwchj3mKbfzfkTFiuOtT4cZ0JiT+mhyKJNE4byz4lWTXmlK+YfxvDypOfkND8nxPeO1bxpVXN835irG2+YkmWcN6b9ffcjqodROUwtgUI0wb527drYVcvOm7AcfTnehMQei4pNVG7SC3MM1UVPNGjCNGEo/5xcDC9P24pmmp8TK/ujqpaH0NQwe5qvb9Iif15d9TDCcFQOR/V+TL+PcyYsTxx3fTjmzEnsMT0UaZt4Ts7Sq7Da63CUujmOfWuYHdXD6qpl8w6BRRISey6GnmIuVmIhC03Jh4kjwFTVBbyoZI+bf1gVz9ekrsl2ks9z3G/D7JjLe/r06drFL6sQ1cOYZxlD6Wl4OR77qJQ+f/58aK9l4RBoiuHmNVC3kEWzbfYrehzmLWwmmWWIOYljPRnVDDsCYjTOTqrnhvx7THPeSE2442fFz5zVrD9vnHh883AYonoYQbguHAbnRli9vuQUlcQ1EC92WuPQtKhk1YW2UfZT3QujflZebYw9navyr6ureFalqmQezFYhjs8I4tNWD+MFSUAEmiQkrglBkabFcyoq0qsUQ9r5sHbd75P3VswDZZtV91weNfcwwmFfKhZA+xhuXjOGnlmmOFaTeY7ZSV8/zZ7O8Zw/cOBAeWvy7zHqZ8Yxc+fOncHFixcb6+tYVbd6Of5f1Ubj6WfM85gCixfHaB+OTyFxDQmKLMt+AlMY9/VRQYxVzcmoOYthlt+j7nPjWLlw4UKxgjp+xqi5ipPmR45T1/uwGhDT7zbPYwksTxyrfThODTevoXjBMfTMok3bvmZe+XBsrHweFRBnUf2dY4VzbHkXjelTi508xFVFpTGpmx9ZZ9zq5aiMxvV4wUkvOgIisDQ7J5zO6eiv3TofP378tBMUi8czXW7evFl+FPbn0KFDn59XOyGuvHc2+XOzKv9YPJfHyT93nPx3/qd/+qc9X5cuW1tb5WcPy79+541Yee9od+/e/bQTAvd8/xMnTnx6/fp1+RnOd9BFfTluDTevubqhZ/s804Q0NBrGDQWPk3+P/JiP52tU95JJ54NR36cq/7w6k3YtmvbnhKjc59XQeHxi2kdanJK+l3MddE8cv304dg03r7l4YYqh5zwUxsT5cUNqMKt5AuI48RxtUoTOaKBdJ6ZlRMiNE/64gDjt8HoMW0drm1Grl+PFJb3ACIjAKgmJFC/gjx49Ghw8eLC4/e7du+JFDNooAl1a0RzyFjfTqNtJJRbAPHv2rLy1a2Nj4/PuLdOE3OocyaoIh1E9jDmOeRPyCKFRvY991oVDoE2ERAr2eaZJi1y0kq9oDuOqe0ke8qpfH/KtK5NZglr8f/PgGuEyefXqVfGmK8JhBMnqHtMReqNFj3AItM7OSalzOvprd8LOi2Xx+KbL1atXJy4KgKomFq2E/LmY3Lp16/N94xaR5PKvyb9XEs/x/OPpshMuP+2E0PKz6j158uTTwYMHP39N+v/Gz9zY2Njz/dIl7t8JksV1oH/6cmx38n/hxLo48WJZXfF89OjRT8+fPy8/A8aL0JQ/f/bzJiP/PvuVguKoYJn/rOolhbqqakCMy6tXr4oVyvl96ZKHw7gA/dSX49vqZobEopVoHPzTTz+V9+y6evXq4Nq1a8XQNIyS74IS9nOsxrGeLOqYj+HeGIKOubhJ9CiMvoW5GLKOoe2020p8XWqwnfzzP//z4D//8z/3LPyK4yWGszc3Nz8vjnH+gn7rS04REhkpJvjHXKr8RTBeKGOhgLDIKHmwm9QyZpJlhMRqqI1FJ7GQK4JehMd8oUs8/2Olc6h+Xcw5fPv2bXlrV6xWjrY2aVtA5y1YD33JKRauMFJUTF6/fr1nZ5Z44YyVmfGCGNuIQa66YGU/AXFZ8jdBERDTopMIhHE9qopJPP/TLix5QPzbv/3bPQHx6NGjg+fPnxdfa1EK0FVCImNFtTBagFQbbMeLZQzHRaUlf7FkvU1qA9NGUekLUfWMCmKEw1xUA1NQ/Jd/+ZeiR2M+NP3Xf/3Xg//5n/8pb+2+uYqeh7HVnlEPoMsMNzOTmKcYQSDaeiTxoprvFMF6iipi3l4mhmWrgWtW+XBzVPXSfMBVqJt+kYs+o1E5jXmKwTkK1ldfcoqQyMyiili3sCWCot6K6yufo5fm9e1XDNXG8y3k8wGXrRqAq2LHlBcvXhTXnZsAIXGFhMR2qKsqCorrK6/6NVFFDDHvNV9lvKrjPuYg5kPMSfwfU4h1TgISIXGFhMT2iBfIc+fOFe1AEkFxPeUhscnjM68mruq4j8Vb//7v/17e2pWqh85FQFVfcoqFK+xLVFIeP368ZwV0VBctaKEp+cKSVYg3PHlATBVSARHoO5VEGlFXUYwXUwta1kN1zl5fjs8IiPmK7cT5BxhHJREyqaIYO0skERxjPpmh5/7rYuubcWKebbS6qQbEmGspIALrQiWRxlnQsn7yeYNNLVpZhVgo8/333w8tUonpFPEmqKv/L2C5VBJhhKgmxm4T1XmKQmJ/5fMGuxik3rx5UzS/jsq3gAiwSyWRhambpxghIgKFfZ9pi6gexpuYVAlN4rm6ubm5Z6chgGn0JacIiSzUqAUt8QJ87do1YZGViephzDtMTbCT2ILPYitgP4TEFRISuyWCYt0OLREWrX5mFe7du1cMLefVw+h7GFv/HT16tLwHYD5C4goJid1Ut6AlWNTCssS+y1E9rL5hCV1ecAO0S19yioUrLE0saHn58mWxCODYsWPlvZpvsxwxrHz8+PE9ATGqhrHIKgiIAHupJLIS5iqyDLFS+dmzZ4P/+I//GGxvb+8ZXr506dLg/v37xfPOOQVokuHmFXJC74dxcxWFReYVQ8ox5/CHH34YamcT4vkV4TBCYuKcAjRJSFwhJ/R+GTVXUVhkFikcfvvtt8X1OjG8HNMdqotTnFOAJgmJK+SE3k/CIvMYFw7juRN9Dv/whz8U/8YK5jrOKUCThMQVckLvt3FhMYYINTgmTKocRjubfEh5HOcUoElC4go5oa+HUWExREUxVksLjOunyXCYOKcATRISV8gJfb2MC4shAmOEgui3GNVG+mkR4TBxTgGaJCSukBP6eoqQGCtWIzTWrVqNxQgRFEbNO6N78hY28XdvOhwmzilAk4TEFXJCZ1xgvHr1qkUuHZYqhqNa2CRNhMPEOQVokpC4Qk7o5B4+fDj4+uuv91SZLHLpnknDybmmj3/nFKBJQuIKOaFTFVv6xZ68+Q4uiTmL7ZaqwhH2q+EwtbBJf9dFHffOKUCThMQVckJnlJi/Fotc4t8qcxbb5fbt24Pvv/++dkh5Y2OjCPUR/MOij3fnFKBJQuIKOaEzybg5i9GY2zD06rx586YIfy9evCjv+c2yw2HinAI0SUhcISd0ZlE3ZzHEMPT58+ctclmCfJXy9vZ2sW93Eo993vNyFce3cwrQJCFxhZzQmdW4OYtJVLEirAiNzRk3pBzzDaNqeP369eJ2HNdhFce2cwrQJCFxhZzQmdekXou5CI1fffWVoek5jBtSDjEvNOaHxjzRVYbDxDkFaJKQuEJO6DQhguK4nVxyhqZHmyZ4p1XKf/jDH4p/IyS2IRwmzilAk4TEFXJCZxGmCY0RdmLhy7qHxWkrstUh5aRtx7BzCtAkIXGFnNBZhlmGpqfV5SHsWR+PfEg5iWM3tO34dU4BmiQkrpATOss2TZWxCW0LkdMEw+rq5DptDYeJcwrQJCFxhZzQWZVlhcW2myYYhraHw8Q5BWiSkLhCTuh01SKGsJdl2mAYuhIOE+cUoElC4go5odNXbQuRswTDpIvHp3MK0CQhcYWc0KF94rgMXTw2nVOAJvXlnPJX5b8Ac4mTYTohCloA/SEkAnMRDgH6TUgEZiIcAqwHIRGYmnAIsD6ERGCivHoIwHoQEoGRDC0DrC8hERgiHAIgJAKfCYcAJEIiUBAOAcgJibDm8uohACRCIqwpQ8sAjCMkwpoRDgGYhpAIa0Q4BGBaQiKsgbx6CADTEBKhxwwtAzAvIRF6SDgEYL+EROgR4RCApgiJ0BPCIQBNEhKh4/LqIQA0RUiEjjK0DMAiCYnQMcIhAMsgJEJHCIcALJOQCB0gHAKwbEIitFhePQSAZRISoYUMLQOwakIitIhwCEBbCInQAsIhAG0jJMKKCYcAtJGQCCuSVw8BoG2ERFgyQ8sAdIGQCEsiHALQJUIiLIFwCEDXCImwQHn1EAC6REiEBTC0DEDXCYnQIOEQgL4QEqEBwiEAfSMkwj4JhwD0kZAI+yQcAtBHQiIAAEOERAAAhgiJAAAMERIBABgiJAIAMERIBABgiJAIAMAQIREAgCFCIgAAQ4REAACGCIkAAAwREgEAGCIkAgAwREgEAGCIkAgAwBAhEQCAIUIiAABDhEQAAIYIiQAADBESAQAYIiQCADBESAQAYIiQCADAECERAIAhQiIAAEOERAAAhgiJAAAN+vTpU3mt24REAACGfLGTdjsXd7/44ovPKT2uAwCsWl8qiEnnQyLAfjmnAAwz3AysPQERYFgnQ6ITOgDAYqkkAgAwREgEAGCIkAgAwBAhEQCAIUIiALDWnj59Ojh9+vTg4cOH5T2ETvZJBABoyuHDhwfv378f/O53vxt8/PixvBchEQBYa/nubWLRbww3AwAwREgEAGCIkAj0UkxEP3LkSDGMNOoSHzdRHaCekAj00uXLlwfv3r0rb9WLj1+5cqW8tStC46hwKVQC68TCFaCXDhw4MPjLX/5S3hovnQa/+eabwZ/+9Kfi+ihWP0L/xJvARCz6jUoi0Es3b94s/t3a2ipO+tVLLg1NTwqI4dKlS+U1gH5TSQTWUl45OHToUNEjLfnqq68Gjx8/LqqGQP+pJNZbSSVx2gnlMVfo2bNn5VcBLEYeEM+fPy8gAuxYSSUxdTaf1cbGxuDatWvF8BHAfsSb0TqqCLB+8vOBc8BvVhISR52cpxVzjWKCOcC8hEQgERLrrXzhSvwx6i4vX74cXL16tageVsXkcq0oAAAWZ+kh8bvvviuvjXfs2LHB3bt3B2/fvi1CY7SciMnkSV1/M4BpNT3nMOZanz592ptX6KFR/VP7XrBa+nBzPh8xJog/evSouD6N6HkWwTD/gyz51wd64vbt24MbN26Ut34z7zklndv0UYTuGTfcPKl/ap+P+aWGxDiBxok0iQd1nnfz4/6YANPKzyXJvOcU5yXorrrjNwpSEQ4n7dwU+nrML3W4+c6dO+W13eFkLSYAgDZJw8rVrT1jylsUtyIQrssbwaVVEqOKGA982iYr+pCdPXu2uD4r79iBJqgkAqHuXJCL6XEPHjzYU9xah2N+aZXEqCKmgBhVxHkDIkDbTLsgD2ifWHQ2SoTDqB7G+ol1HP1cWkjc3t4ur/22pypAH+ST2uNFBeiGCIibm5vlrd+kYeX9hMM+dDxY2nBzk2XZeb9X/MGionnx4kWb9AO1Q0yznp+iipi345p3QR6wfHU7wMWubvfv3y9vjTYpi/Sh48HKm2nPqvrHnEVMQo29oPVXBEYNMcWJf9Il741WrSKmgNiHKgL0WbzBq2aKWC8xTUCcRvreaapdF3Wqkhgn3Qh4+WqjWb5XE78D0F6zjBbUVRBmkaoD+XklbsfUmrxtRperCNBn8Wav2t6myUyxrMyRZ6PYpe7atWtFNbQJnQqJdSf1Wb5XH/5gwGjzBr9/+7d/G/zf//3fTFW/NCSVn1f+8R//cfBf//Vf5a3fLOk0C8ygrkl2k5liWZmj7rx369atwfXr18tb8+tMSBzV8XyW79WHPxgw2oEDB2Ye2pl156eq/LxSZ9r5TcDyxWt1vGYnTWaKZWWOunNQUyMYnZiTOGlLnLapq2R06feHrpq1c0LqfbYIf/7zn4sXBgER2uvQoUPltenFaGEMVc8jvnYZc5WbmgfZ+pBYDYjR8bxJXfuDAaNFtT6C2bSXRfY+i9EDoD8iJ0Q4PHPmzJ65jNO0vUrBMr62Uwtod06USxE/Kl1G+fXXXz/dvHnz08bGxp7PT5edgPjp48ePe+7LPXjw4NOpU6eKf+vkX/fkyZM9P2fnhaL8rP3Lf05+AfonP8Zfvny553acY0adj4B2yI/ZOF5HZZC6y05ALHJJnfzzDh48uOd2XJpS/b7p0oSlJZdJv/j9+/drH8R0SQEx5PcnES7TfRH46v5o+dd19Q8GtEv1GL906dKe+5p8Awo0KwpG+fE6y2Vra6v8LvXqviZdJn3tNKrFruqlCUtLLnGirPtPTHOpJvX8Y3UPUnx+nfxzqpeu/MGAdqke43GuqgZFoJ3+/u//fs+xOukyrnJYVff1TWSNZFLFswlLO3tdvXq19j9RvcR/etLwTP751YpgXnGsyj8vXbr2BwPaZdQxnr8xvnXrVnkv0BaPHz+uLWDNEgRHuXPnztD3HZU3ph3iruajOK/kH4/vn99uwtKSS9276+pl2j9M3dfGZdzX9+UPBrRL/iKTq74xrp4vgNU6dOjQnmM0ikxN+Zu/+Zs93/vPf/5z+ZG9Yqpd/nmTLpOmr+Sf24ROJpe65D+pItiXPxjQLunNYfUcFG9Yq+eqSecLYHny47PpN3BffPHFnmP/7Nmz5Uf2mqYglV8mZZ38c5vQub2bQ94L7fz580XDyEm9yP73f/+3vLZrVHuK2NJrFpO2/gL6LbXdqZ6Ddl6Ahvo2Ol9Ae6Tjcyd4NX5sxjkh99NPPxUtcGK/6FxsIRp2QmSRZeLrxl0mZZ2mLW3HlVWr60i+k+CHtsxLfRnjD9ZED7VldVwHANqhLnMk1ewRG3DM09S7TtOZY61DYtKlPxgA0G75a39UKes27IgRzaa36xUS59SXPxgA0G7V1/7YdS12WcmzR4xUxhBzk4TEOfXlDwYAtNuBAwc+b8ebv/bHfb///e9rP9aEauaI7QDTFoAxB3PWuZedXLgyj+rcwrj94MGDIhSmj6U/2iKl/RvjUlfNBAC6LV8Uk4u8Mepjs0p5IoJhuuTidtpnOi7z7Be9NpXE27dvD27cuFH8Uaqrg8Z9bBYpsecbf4+ziMolANB/ERCnzRthnoyzNiFxGZbxBwMASAWuacybN4TEBi3jDwYAsAxCIgAAQ9Zm4QoAANMTEgEAGCIkAgAwREgEAGCIkAgAwBAhEQCAIUIiAABDhEQAAIYIiQAADBESAQAYIiQCADBESAQAYIiQCADAECERAIAhQiIAAEOERAAAhgiJAABUDAb/DyO7Pn/dasuEAAAAAElFTkSuQmCC)"
      ]
    },
    {
      "cell_type": "code",
      "execution_count": null,
      "metadata": {
        "colab": {
          "base_uri": "https://localhost:8080/",
          "height": 38
        },
        "id": "66jnk7sSWeGY",
        "outputId": "3e71bb19-3343-4be4-ae3f-9fbd6ff24af4"
      },
      "outputs": [
        {
          "data": {
            "text/latex": "$\\displaystyle x^{2} - 2 x - 3$",
            "text/plain": [
              "x**2 - 2*x - 3"
            ]
          },
          "execution_count": 40,
          "metadata": {},
          "output_type": "execute_result"
        }
      ],
      "source": [
        "import sympy as sym\n",
        "\n",
        "def F(x):\n",
        "    return (x**3)/3 - x**2 - 3*x\n",
        "\n",
        "x = sym.Symbol('x')\n",
        "d_f = F(x).diff(x)\n",
        "d_f\n"
      ]
    },
    {
      "cell_type": "code",
      "execution_count": null,
      "metadata": {
        "colab": {
          "base_uri": "https://localhost:8080/",
          "height": 37
        },
        "id": "qmraf6jOXPrd",
        "outputId": "4af98733-fede-413d-b638-6bcf78e530b3"
      },
      "outputs": [
        {
          "data": {
            "text/latex": "$\\displaystyle -3$",
            "text/plain": [
              "-3"
            ]
          },
          "execution_count": 41,
          "metadata": {},
          "output_type": "execute_result"
        }
      ],
      "source": [
        "d_f.subs(x,0)"
      ]
    },
    {
      "cell_type": "code",
      "execution_count": null,
      "metadata": {
        "id": "dSRkKFrcqWpN"
      },
      "outputs": [],
      "source": [
        "def F(x):\n",
        "    return x**3 - x**2 + 1"
      ]
    },
    {
      "cell_type": "code",
      "execution_count": null,
      "metadata": {
        "id": "uKxJLzGSWq5d"
      },
      "outputs": [],
      "source": [
        "import sympy as sym\n",
        "\n",
        "x = sym.Symbol('x')\n",
        "\n",
        "def bolzano(a, b, e):\n",
        "  L = b - a;\n",
        "  d_f = F(x).diff(x)\n",
        "  while L > e:\n",
        "    xk = (b + a)/2\n",
        "    if d_f.subs(x,xk) < 0:\n",
        "      a = xk\n",
        "      print('b')\n",
        "    else: \n",
        "      b = xk\n",
        "      print('a')\n",
        "    L = b - a\n",
        "  return print('L = ', L, 'xk = ', xk)\n",
        "  "
      ]
    },
    {
      "cell_type": "code",
      "execution_count": null,
      "metadata": {
        "colab": {
          "base_uri": "https://localhost:8080/"
        },
        "id": "9mNzJLuoeEhx",
        "outputId": "1e4c8dff-fc0e-4526-a247-8a9b8ec575eb"
      },
      "outputs": [
        {
          "output_type": "stream",
          "name": "stdout",
          "text": [
            "a\n",
            "a\n",
            "a\n",
            "b\n",
            "a\n",
            "a\n",
            "a\n",
            "b\n",
            "a\n",
            "a\n",
            "a\n",
            "b\n",
            "a\n",
            "a\n",
            "a\n",
            "b\n",
            "a\n",
            "L =  7.62939453125e-05 xk =  0.6667327880859375\n"
          ]
        }
      ],
      "source": [
        "bolzano(0,10, 0.0001)"
      ]
    },
    {
      "cell_type": "markdown",
      "metadata": {
        "id": "YDIp6idvix2h"
      },
      "source": [
        "**Метод касательных.** Пусть φ(x), заданная на промежутке [a, b], является выпуклой дифференцируемой. В методе касательных разбиение промежутка производится точкой хk , в которой пересекаются касательные к графику функции φ(х) в концевых точках отрезка [ak,bk]. Алгоритм метода касательных формулируется также как метод Больцано, только xk вычисляется иначе."
      ]
    },
    {
      "cell_type": "markdown",
      "metadata": {
        "id": "3KTnD0UQlzIt"
      },
      "source": [
        "![метод_касательных.png](data:image/png;base64,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)"
      ]
    },
    {
      "cell_type": "markdown",
      "metadata": {
        "id": "hmua8jL1ode6"
      },
      "source": [
        "Поиск пересечения касательных y1 = ϕ(ak-1) + ϕ'(ak-1)(xk - ak-1) и y2 = ϕ(bk-1) + ϕ'(bk-1)(xk - bk-1) приводит к решению системы двух уравнений, откуда:"
      ]
    },
    {
      "cell_type": "markdown",
      "metadata": {
        "id": "F7uV0jbFpGLO"
      },
      "source": [
        "xk = {[ φ’(bk-1)bk-1 - φ(bk-1)] – [φ’(ak-1)ak-1- φ(ak-1)]}/[ φ’(bk-1)- φ’(ak-1)]"
      ]
    },
    {
      "cell_type": "code",
      "execution_count": null,
      "metadata": {
        "id": "sFRU1ufPqgyw"
      },
      "outputs": [],
      "source": [
        "def F(x):\n",
        "    return x**2"
      ]
    },
    {
      "cell_type": "code",
      "execution_count": null,
      "metadata": {
        "id": "gD02akKhqEB9"
      },
      "outputs": [],
      "source": [
        "import sympy as sym\n",
        "\n",
        "x = sym.Symbol('x')\n",
        "\n",
        "def tangent(a, b, e):\n",
        "  L = b - a;\n",
        "  d_f = F(x).diff(x)\n",
        "  while L > e:\n",
        "    p1 = (d_f.subs(x,b) * b - F(b)) \n",
        "    p2 = (d_f.subs(x,a) * a - F(a))\n",
        "    p3 = d_f.subs(x,b) - d_f.subs(x,a)\n",
        "    xk = (p1 - p2)/p3\n",
        "    if d_f.subs(x,xk) < 0:\n",
        "      a = xk\n",
        "      print('b')\n",
        "    else: \n",
        "      b = xk\n",
        "      print('a')\n",
        "    L = b - a\n",
        "  return print('L = ', float(L), 'xk = ', float(xk))"
      ]
    },
    {
      "cell_type": "code",
      "execution_count": null,
      "metadata": {
        "colab": {
          "base_uri": "https://localhost:8080/"
        },
        "id": "pbfAaVE3tnBZ",
        "outputId": "acab9352-4651-42b0-9b7c-8da063d75eae"
      },
      "outputs": [
        {
          "output_type": "stream",
          "name": "stdout",
          "text": [
            "a\n",
            "a\n",
            "a\n",
            "a\n",
            "a\n",
            "a\n",
            "a\n",
            "a\n",
            "a\n",
            "a\n",
            "L =  0.009765625 xk =  0.009765625\n"
          ]
        }
      ],
      "source": [
        "tangent(0, 10, 0.01)"
      ]
    }
  ],
  "metadata": {
    "colab": {
      "provenance": [],
      "authorship_tag": "ABX9TyOHgV+TvwLCQNbrQuFanWwH",
      "include_colab_link": true
    },
    "kernelspec": {
      "display_name": "Python 3",
      "name": "python3"
    },
    "language_info": {
      "name": "python"
    }
  },
  "nbformat": 4,
  "nbformat_minor": 0
}