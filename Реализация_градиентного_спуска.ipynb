{
  "nbformat": 4,
  "nbformat_minor": 0,
  "metadata": {
    "colab": {
      "provenance": [],
      "authorship_tag": "ABX9TyPUjF3QKGEHr2OagzdGapj7",
      "include_colab_link": true
    },
    "kernelspec": {
      "name": "python3",
      "display_name": "Python 3"
    },
    "language_info": {
      "name": "python"
    }
  },
  "cells": [
    {
      "cell_type": "markdown",
      "metadata": {
        "id": "view-in-github",
        "colab_type": "text"
      },
      "source": [
        "<a href=\"https://colab.research.google.com/github/albinovik/iter_methods_course/blob/main/%D0%A0%D0%B5%D0%B0%D0%BB%D0%B8%D0%B7%D0%B0%D1%86%D0%B8%D1%8F_%D0%B3%D1%80%D0%B0%D0%B4%D0%B8%D0%B5%D0%BD%D1%82%D0%BD%D0%BE%D0%B3%D0%BE_%D1%81%D0%BF%D1%83%D1%81%D0%BA%D0%B0.ipynb\" target=\"_parent\"><img src=\"https://colab.research.google.com/assets/colab-badge.svg\" alt=\"Open In Colab\"/></a>"
      ]
    },
    {
      "cell_type": "markdown",
      "source": [
        "В первую очередь алгоритм наискорейшего спука может быть реализован напрямую через циклы:"
      ],
      "metadata": {
        "id": "M_1PWnQkuTZm"
      }
    },
    {
      "cell_type": "markdown",
      "source": [
        "a) поиск минимума функции"
      ],
      "metadata": {
        "id": "HAwQf-lV9EgP"
      }
    },
    {
      "cell_type": "code",
      "source": [
        "import numpy as np\n",
        "from tqdm import tqdm\n",
        "\n",
        "def f(x,y):\n",
        "    return 10 * x**2 + y**2\n",
        "\n",
        "def gradient_descent1(alpha=0.01, eps=0.001):\n",
        "    #x_prev = 0  # начальная инициализация x\n",
        "    #y_prev = 0  # начальная инициализация y\n",
        "    x = 1\n",
        "    y = 1\n",
        "    x_prev = 0\n",
        "    y_prev = 0\n",
        "    #x = np.array([50, 50])  # начальная инициализация\n",
        "    for i in tqdm(range(100000)):\n",
        "        print(i)  # смотрим, на каком мы шаге\n",
        "        if np.sum((x - x_prev)**2) < eps**2:  # условие остановки\n",
        "            break\n",
        "        x_prev = x\n",
        "        y_prev = y\n",
        "        x = x_prev - alpha * (20 * x_prev)  # по формуле выше\n",
        "        y = y_prev - alpha * (20 * y_prev)  # по формуле выше\n",
        "    print(x, y)\n",
        "    return x"
      ],
      "metadata": {
        "id": "28pMwqUv2CFr"
      },
      "execution_count": 33,
      "outputs": []
    },
    {
      "cell_type": "code",
      "source": [
        "gradient_descent1(alpha=0.01, eps=0.01)"
      ],
      "metadata": {
        "colab": {
          "base_uri": "https://localhost:8080/"
        },
        "id": "5IUKGOuX1CDN",
        "outputId": "78312d7d-1d67-48ff-cc8d-dbe25dd8be2f"
      },
      "execution_count": 38,
      "outputs": [
        {
          "output_type": "stream",
          "name": "stderr",
          "text": [
            "  0%|          | 11/100000 [00:00<00:07, 13642.03it/s]"
          ]
        },
        {
          "output_type": "stream",
          "name": "stdout",
          "text": [
            "0\n",
            "1\n",
            "2\n",
            "3\n",
            "4\n",
            "5\n",
            "6\n",
            "7\n",
            "8\n",
            "9\n",
            "10\n",
            "11\n",
            "0.4744456619460772 0.14153591268242477\n"
          ]
        },
        {
          "output_type": "stream",
          "name": "stderr",
          "text": [
            "\n"
          ]
        },
        {
          "output_type": "execute_result",
          "data": {
            "text/plain": [
              "0.4744456619460772"
            ]
          },
          "metadata": {},
          "execution_count": 38
        }
      ]
    },
    {
      "cell_type": "code",
      "source": [
        "def f(x,y):\n",
        "    return x**2 + 10 * x * y +  y**2 - 2*x\n",
        "\n",
        "def gradient_descent1(alpha=0.01, eps=0.001):\n",
        "    #x_prev = 0  # начальная инициализация x\n",
        "    #y_prev = 0  # начальная инициализация y\n",
        "    x = -2\n",
        "    y = -1\n",
        "    x_prev = 0\n",
        "    y_prev = 0\n",
        "    #x = np.array([50, 50])  # начальная инициализация\n",
        "    for i in tqdm(range(1000000)):\n",
        "        print(i)  # смотрим, на каком мы шаге\n",
        "        if np.sum((x - x_prev)**2) < eps**2:  # условие остановки\n",
        "            break\n",
        "        x_prev = x\n",
        "        y_prev = y\n",
        "        x = x_prev - alpha * (2 * x_prev + 10 * y_prev - 2)  # по формуле выше\n",
        "        y = y_prev - alpha * (2 * y_prev + 10 * x_prev)  # по формуле выше\n",
        "    print(x, y)\n",
        "    return x"
      ],
      "metadata": {
        "id": "_4WDgb3D33E2"
      },
      "execution_count": 49,
      "outputs": []
    },
    {
      "cell_type": "code",
      "source": [
        "gradient_descent1(alpha=0.003, eps=0.001)"
      ],
      "metadata": {
        "colab": {
          "base_uri": "https://localhost:8080/"
        },
        "id": "qmaMvrkO3Lwb",
        "outputId": "42420f07-e4a2-4aeb-fc02-87943399e0a5"
      },
      "execution_count": 58,
      "outputs": [
        {
          "output_type": "stream",
          "name": "stderr",
          "text": [
            "  0%|          | 31/1000000 [00:00<00:40, 24620.99it/s]"
          ]
        },
        {
          "output_type": "stream",
          "name": "stdout",
          "text": [
            "0\n",
            "1\n",
            "2\n",
            "3\n",
            "4\n",
            "5\n",
            "6\n",
            "7\n",
            "8\n",
            "9\n",
            "10\n",
            "11\n",
            "12\n",
            "13\n",
            "14\n",
            "15\n",
            "16\n",
            "17\n",
            "18\n",
            "19\n",
            "20\n",
            "21\n",
            "22\n",
            "23\n",
            "24\n",
            "25\n",
            "26\n",
            "27\n",
            "28\n",
            "29\n",
            "30\n",
            "31\n",
            "-1.3320015979645377 0.48244203186034695\n"
          ]
        },
        {
          "output_type": "stream",
          "name": "stderr",
          "text": [
            "\n"
          ]
        },
        {
          "output_type": "execute_result",
          "data": {
            "text/plain": [
              "-1.3320015979645377"
            ]
          },
          "metadata": {},
          "execution_count": 58
        }
      ]
    },
    {
      "cell_type": "markdown",
      "source": [
        "б) линейная регрессия"
      ],
      "metadata": {
        "id": "PKgtS5fP9LfH"
      }
    },
    {
      "cell_type": "code",
      "source": [
        "a = [[1, 2, 3, 4, 5], [2, 3, 5, 6, 8]]\n",
        "for i in range(len(a)):\n",
        "    for j in range(len(a[i])):\n",
        "        print(a[i][j], end=' ')\n",
        "    print()"
      ],
      "metadata": {
        "colab": {
          "base_uri": "https://localhost:8080/"
        },
        "id": "vIDMPM8fU4yM",
        "outputId": "b25dc23a-c448-416e-b7ac-37fe35350eca"
      },
      "execution_count": 90,
      "outputs": [
        {
          "output_type": "stream",
          "name": "stdout",
          "text": [
            "1 2 3 4 5 \n",
            "2 3 5 6 8 \n"
          ]
        }
      ]
    },
    {
      "cell_type": "code",
      "source": [
        "import sympy as sym\n",
        "k = sym.Symbol('k')\n",
        "b = sym.Symbol('b')\n",
        "temp = 0\n",
        "for j in range(len(a[1])):\n",
        "    #print(a[1][j], end=' ')\n",
        "    temp = temp + (a[1][j] -1* (k * a[0][j] + b))**2\n",
        "    #print(temp)\n",
        "\n",
        "print('initial function: f(k, b) =', temp)\n",
        "\n",
        "temp2 = temp.diff(k)\n",
        "print('derivative by k:  ',temp2)\n",
        "\n",
        "temp3 = temp.diff(b)\n",
        "print('derivative by b:  ',temp3)"
      ],
      "metadata": {
        "colab": {
          "base_uri": "https://localhost:8080/"
        },
        "id": "capc1yMlVgtg",
        "outputId": "58a817bb-2b68-4445-d319-701478f81c2d"
      },
      "execution_count": 99,
      "outputs": [
        {
          "output_type": "stream",
          "name": "stdout",
          "text": [
            "initial function: f(k, b) = (-b - 5*k + 8)**2 + (-b - 4*k + 6)**2 + (-b - 3*k + 5)**2 + (-b - 2*k + 3)**2 + (-b - k + 2)**2\n",
            "derivative by k:   30*b + 110*k - 174\n",
            "derivative by b:   10*b + 30*k - 48\n"
          ]
        }
      ]
    },
    {
      "cell_type": "code",
      "source": [
        "def gradient_descent2(alpha, eps):\n",
        "  k = 0.5\n",
        "  b = 0.1\n",
        "  k_prev = 0\n",
        "  b_prev = 0\n",
        "  for i in tqdm(range(1000000)):\n",
        "      print(i)  # смотрим, на каком мы шаге\n",
        "      if (k - k_prev) < eps:  # условие остановки\n",
        "          break\n",
        "      k_prev = k\n",
        "      b_prev = b\n",
        "      k = k_prev - alpha * (30 * b_prev + 110 * k_prev - 174)  # по формуле выше\n",
        "      b = b_prev - alpha * (10 * b_prev + 30 * k_prev - 48)  # по формуле выше\n",
        "  print(k, b)\n",
        "  return k"
      ],
      "metadata": {
        "id": "gfYU99DjVutX"
      },
      "execution_count": 121,
      "outputs": []
    },
    {
      "cell_type": "code",
      "source": [
        "gradient_descent2(alpha=0.001, eps=0.001)"
      ],
      "metadata": {
        "colab": {
          "base_uri": "https://localhost:8080/"
        },
        "id": "pwTpT47Yc1pv",
        "outputId": "24cf256b-4690-436a-ad73-f6cf89102e58"
      },
      "execution_count": 124,
      "outputs": [
        {
          "output_type": "stream",
          "name": "stderr",
          "text": [
            "  0%|          | 40/1000000 [00:00<00:25, 38791.25it/s]"
          ]
        },
        {
          "output_type": "stream",
          "name": "stdout",
          "text": [
            "0\n",
            "1\n",
            "2\n",
            "3\n",
            "4\n",
            "5\n",
            "6\n",
            "7\n",
            "8\n",
            "9\n",
            "10\n",
            "11\n",
            "12\n",
            "13\n",
            "14\n",
            "15\n",
            "16\n",
            "17\n",
            "18\n",
            "19\n",
            "20\n",
            "21\n",
            "22\n",
            "23\n",
            "24\n",
            "25\n",
            "26\n",
            "27\n",
            "28\n",
            "29\n",
            "30\n",
            "31\n",
            "32\n",
            "33\n",
            "34\n",
            "35\n",
            "36\n",
            "37\n",
            "38\n",
            "39\n",
            "40\n",
            "1.475124599911822 0.36505626228344185\n"
          ]
        },
        {
          "output_type": "stream",
          "name": "stderr",
          "text": [
            "\n"
          ]
        },
        {
          "output_type": "execute_result",
          "data": {
            "text/plain": [
              "1.475124599911822"
            ]
          },
          "metadata": {},
          "execution_count": 124
        }
      ]
    }
  ]
}